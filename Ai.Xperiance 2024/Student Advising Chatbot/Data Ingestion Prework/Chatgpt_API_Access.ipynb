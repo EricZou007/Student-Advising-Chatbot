{
 "cells": [
  {
   "cell_type": "code",
   "execution_count": 2,
   "id": "a3459cae-486a-40a4-a779-2a478bfdde04",
   "metadata": {
    "scrolled": true
   },
   "outputs": [
    {
     "name": "stdout",
     "output_type": "stream",
     "text": [
      "Requirement already satisfied: openai in /opt/anaconda3/lib/python3.11/site-packages (1.35.3)\n",
      "Requirement already satisfied: anyio<5,>=3.5.0 in /opt/anaconda3/lib/python3.11/site-packages (from openai) (4.2.0)\n",
      "Requirement already satisfied: distro<2,>=1.7.0 in /opt/anaconda3/lib/python3.11/site-packages (from openai) (1.8.0)\n",
      "Requirement already satisfied: httpx<1,>=0.23.0 in /opt/anaconda3/lib/python3.11/site-packages (from openai) (0.27.0)\n",
      "Requirement already satisfied: pydantic<3,>=1.9.0 in /opt/anaconda3/lib/python3.11/site-packages (from openai) (1.10.12)\n",
      "Requirement already satisfied: sniffio in /opt/anaconda3/lib/python3.11/site-packages (from openai) (1.3.0)\n",
      "Requirement already satisfied: tqdm>4 in /opt/anaconda3/lib/python3.11/site-packages (from openai) (4.65.0)\n",
      "Requirement already satisfied: typing-extensions<5,>=4.7 in /opt/anaconda3/lib/python3.11/site-packages (from openai) (4.9.0)\n",
      "Requirement already satisfied: idna>=2.8 in /opt/anaconda3/lib/python3.11/site-packages (from anyio<5,>=3.5.0->openai) (3.4)\n",
      "Requirement already satisfied: certifi in /opt/anaconda3/lib/python3.11/site-packages (from httpx<1,>=0.23.0->openai) (2024.2.2)\n",
      "Requirement already satisfied: httpcore==1.* in /opt/anaconda3/lib/python3.11/site-packages (from httpx<1,>=0.23.0->openai) (1.0.5)\n",
      "Requirement already satisfied: h11<0.15,>=0.13 in /opt/anaconda3/lib/python3.11/site-packages (from httpcore==1.*->httpx<1,>=0.23.0->openai) (0.14.0)\n",
      "Note: you may need to restart the kernel to use updated packages.\n"
     ]
    }
   ],
   "source": [
    "pip install openai --upgrade"
   ]
  },
  {
   "cell_type": "code",
   "execution_count": 3,
   "id": "ba9fb09c-eaf0-4b3d-bdb8-bc3317c0f3b1",
   "metadata": {},
   "outputs": [],
   "source": [
    "#Tool which can extract text from pdf\n",
    "# pip install openai PyMuPDF pdfplumber pandas"
   ]
  },
  {
   "cell_type": "code",
   "execution_count": 4,
   "id": "7f534b02-ce69-4d82-ad20-c5a272f7487a",
   "metadata": {},
   "outputs": [
    {
     "name": "stdout",
     "output_type": "stream",
     "text": [
      "1.35.3\n"
     ]
    }
   ],
   "source": [
    "import openai\n",
    "print(openai.__version__)\n"
   ]
  },
  {
   "cell_type": "code",
   "execution_count": 28,
   "id": "13879841-d697-408b-b291-82cdbe4ad59d",
   "metadata": {},
   "outputs": [
    {
     "name": "stdout",
     "output_type": "stream",
     "text": [
      "ChatCompletion(id='chatcmpl-9diDfiMwkoKACSeWh49CQXleexwQZ', choices=[Choice(finish_reason='stop', index=0, logprobs=None, message=ChatCompletionMessage(content=\"I'm sorry, I do not have the ability to provide real-time weather updates. I recommend checking a reliable weather website or app for the most up-to-date information on the weather in Atlanta.\", role='assistant', function_call=None, tool_calls=None))], created=1719251799, model='gpt-3.5-turbo-0125', object='chat.completion', service_tier=None, system_fingerprint=None, usage=CompletionUsage(completion_tokens=39, prompt_tokens=15, total_tokens=54))\n"
     ]
    }
   ],
   "source": [
    "import os\n",
    "import openai\n",
    "from openai import OpenAI\n",
    "api_key = \"OpenAI APIkey\"\n",
    "client = OpenAI(api_key = api_key)\n",
    "\n",
    "def get_completion(prompt, model=\"gpt-3.5-turbo\"):\n",
    "    response = client.chat.completions.create(\n",
    "        model=model,\n",
    "        messages=[\n",
    "            {\"role\": \"user\", \"content\": prompt}\n",
    "        ]\n",
    "    )\n",
    "    return response\n",
    "\n",
    "\n",
    "result = get_completion(\"how is weather in atlanta today?\")\n",
    "print(result)\n",
    "\n"
   ]
  },
  {
   "cell_type": "code",
   "execution_count": 21,
   "id": "6b1b5917-7188-438c-b39c-1775d6c5d27a",
   "metadata": {},
   "outputs": [
    {
     "name": "stdout",
     "output_type": "stream",
     "text": [
      "ChatCompletion(id='chatcmpl-9di2BpIhiRoeAYbEDc5mHwhaCKa0h', choices=[Choice(finish_reason='stop', index=0, logprobs=None, message=ChatCompletionMessage(content='Area 51, located in Nevada, USA, is a highly classified US Air Force facility that has been the subject of many conspiracy theories and speculation. It is known for its secrecy and reportedly houses experimental aircraft and weapons testing. The facility has been linked to various conspiracy theories, including the presence of extraterrestrial technology and captured alien beings. Despite its secretive nature, the US government has acknowledged the existence of Area 51 and its role in developing military technology.', role='assistant', function_call=None, tool_calls=None))], created=1719251087, model='gpt-3.5-turbo-0125', object='chat.completion', service_tier=None, system_fingerprint=None, usage=CompletionUsage(completion_tokens=92, prompt_tokens=10, total_tokens=102))\n"
     ]
    }
   ],
   "source": [
    "import os\n",
    "import time\n",
    "from openai import OpenAI, OpenAIError\n",
    "api_key = \"OpenAI APIkey\"\n",
    "\n",
    "# Initialize the OpenAI client\n",
    "client = OpenAI(api_key=api_key)\n",
    "\n",
    "# Define the usage limits\n",
    "MAX_TPM = 39999  # Tokens per minute\n",
    "MAX_RPM = 3      # Requests per minute\n",
    "MAX_RPD = 199    # Requests per day\n",
    "MAX_TPD = 199999 # Tokens per day\n",
    "\n",
    "# Track usage\n",
    "requests_per_minute = 0\n",
    "requests_per_day = 0\n",
    "tokens_per_minute = 0\n",
    "tokens_per_day = 0\n",
    "start_time = time.time()\n",
    "day_start_time = time.time()\n",
    "\n",
    "def create_chat_completion(client, messages, model=\"gpt-3.5-turbo\", retries=5):\n",
    "    global requests_per_minute, requests_per_day, tokens_per_minute, tokens_per_day, start_time, day_start_time\n",
    "    # had maximum rate  problem\n",
    "    for i in range(retries):\n",
    "        try:\n",
    "            current_time = time.time()\n",
    "            \n",
    "            # Reset counters if a minute or a day has passed\n",
    "            if current_time - start_time >= 60:\n",
    "                requests_per_minute = 0\n",
    "                tokens_per_minute = 0\n",
    "                start_time = current_time\n",
    "            if current_time - day_start_time >= 86400:\n",
    "                requests_per_day = 0\n",
    "                tokens_per_day = 0\n",
    "                day_start_time = current_time\n",
    "\n",
    "            if requests_per_minute >= MAX_RPM or requests_per_day >= MAX_RPD:\n",
    "                raise Exception(\"Rate limit exceeded\")\n",
    "            if tokens_per_minute + len(messages) * 4 > MAX_TPM or tokens_per_day + len(messages) * 4 > MAX_TPD:  # Rough estimate: 4 tokens per word\n",
    "                raise Exception(\"Token limit exceeded\")\n",
    "            \n",
    "            # Make the API request\n",
    "            response = client.chat.completions.create(\n",
    "                messages=messages,\n",
    "                model=model\n",
    "            )\n",
    "            \n",
    "            # counters update\n",
    "            requests_per_minute += 1\n",
    "            requests_per_day += 1\n",
    "            tokens_used = sum(len(message['content'].split()) for message in messages) * 4  # Rough estimate: 4 tokens per word\n",
    "            tokens_per_minute += tokens_used\n",
    "            tokens_per_day += tokens_used\n",
    "            \n",
    "            return response\n",
    "        except OpenAIError as e:\n",
    "            # Catch all OpenAI errors including rate limits\n",
    "            wait_time = 2 ** i  # Exponential backoff\n",
    "            print(f\"OpenAI error: {e}. Retrying in {wait_time} seconds...\")\n",
    "            time.sleep(wait_time)\n",
    "        except Exception as e:\n",
    "            # Handle custom rate limit and token limit errors\n",
    "            print(e)\n",
    "            time.sleep(60)  # Wait for a minute before retrying\n",
    "    raise Exception(\"Exceeded maximum retries\")\n",
    "\n",
    "# Define the conversation messages\n",
    "conversation = [\n",
    "    {\"role\": \"user\", \"content\": \"Area 51\"}\n",
    "]\n",
    "\n",
    "# Make the request with retry mechanism\n",
    "response = create_chat_completion(client, conversation)\n",
    "\n",
    "# Print the response\n",
    "print(response)\n"
   ]
  },
  {
   "cell_type": "code",
   "execution_count": 27,
   "id": "f5825ef0-1080-4ed0-a3e5-760ffed50f76",
   "metadata": {},
   "outputs": [
    {
     "name": "stdout",
     "output_type": "stream",
     "text": [
      "ChatCompletion(id='chatcmpl-9diCW7vLCrIZYOaNC7RlMX50mYZix', choices=[Choice(finish_reason='stop', index=0, logprobs=None, message=ChatCompletionMessage(content='Area 51 is a highly classified United States Air Force facility located in the Nevada desert. It is known for its secrecy and speculation surrounding its purpose, with many believing it is used for the testing and development of experimental aircraft and technology. The facility has also been the subject of various conspiracy theories and urban legends, with some claiming it is used for extraterrestrial research and the storage of alien spacecraft. While the true purpose of Area 51 remains undisclosed, it continues to capture the imagination of the public and inspire curiosity about what may be hidden within its walls.', role='assistant', function_call=None, tool_calls=None))], created=1719251728, model='gpt-3.5-turbo-0125', object='chat.completion', service_tier=None, system_fingerprint=None, usage=CompletionUsage(completion_tokens=112, prompt_tokens=10, total_tokens=122))\n"
     ]
    }
   ],
   "source": [
    "import os\n",
    "import time\n",
    "from openai import OpenAI, OpenAIError\n",
    "\n",
    "\n",
    "# Initialize the OpenAI client\n",
    "client = OpenAI(api_key=api_key)\n",
    "\n",
    "\n",
    "def create_chat_completion(client, messages, model=\"gpt-3.5-turbo\"):\n",
    "        response = client.chat.completions.create(\n",
    "                        messages=messages,\n",
    "                        model=model\n",
    "                    )\n",
    "        return response\n",
    "\n",
    "\n",
    "conversation = [\n",
    "    {\"role\": \"user\", \"content\": \"Area 51\"}\n",
    "]\n",
    "\n",
    "# Make the request with retry mechanism\n",
    "response = create_chat_completion(client, conversation)\n",
    "\n",
    "# Print the response\n",
    "print(response)\n"
   ]
  },
  {
   "cell_type": "code",
   "execution_count": null,
   "id": "3da8644a-c864-43a6-9f3d-d3616db719c5",
   "metadata": {},
   "outputs": [],
   "source": []
  },
  {
   "cell_type": "code",
   "execution_count": null,
   "id": "2e2b137e-3414-4c4f-bd5f-191704555af7",
   "metadata": {},
   "outputs": [],
   "source": []
  }
 ],
 "metadata": {
  "kernelspec": {
   "display_name": "Python 3 (ipykernel)",
   "language": "python",
   "name": "python3"
  },
  "language_info": {
   "codemirror_mode": {
    "name": "ipython",
    "version": 3
   },
   "file_extension": ".py",
   "mimetype": "text/x-python",
   "name": "python",
   "nbconvert_exporter": "python",
   "pygments_lexer": "ipython3",
   "version": "3.11.7"
  }
 },
 "nbformat": 4,
 "nbformat_minor": 5
}
