{
 "cells": [
  {
   "cell_type": "code",
   "execution_count": 14,
   "id": "e8fc1c38-660c-4d89-a801-2f9105608a10",
   "metadata": {},
   "outputs": [
    {
     "data": {
      "text/plain": [
       "'\"Snow White\" is a German fairy tale known across much of Europe and is today one of the most famous fairy tales worldwide. The Brothers Grimm first published it in 1812 in the first edition of their collection Grimms\\' Fairy Tales.\\n\\nThe story revolves around a young princess named Snow White who is known for her incredibly fair skin. Desperate out of jealousy because of Snow White\\'s beauty, her evil stepmother, the queen, orders the murder of Snow White. However, the queen\\'s plan fails as Snow White finds refuge in the home of seven dwarfs.\\n\\nThe queen learns about this and decides to kill Snow White herself, using cunning tricks such as a tight bodice, a poisoned comb, and finally a poisoned apple. Each time, the dwarfs save Snow White, but the third time, when the apple is used, Snow White appears to die.\\n\\nA prince traveling through the land sees Snow White. He strides to her coffin and, enchanted by her beauty, instantly falls in love with her. As a sign of respect, he kisses her, causing the piece of the poisoned apple to dislodge from her throat. Coming back to life, Snow White and the prince rejoice, and the evil queen is vanquished. Snow White and the prince get married and live happily ever after.\\n\\nThe story has been adapted many times in theater plays, TV shows, and movies, most notably is Disney\\'s 1937 animated feature film \"Snow White and the Seven Dwarfs.\"'"
      ]
     },
     "execution_count": 14,
     "metadata": {},
     "output_type": "execute_result"
    }
   ],
   "source": [
    "import os\n",
    "import openai\n",
    "from openai import OpenAI\n",
    "api_key = \"sk-proj\"\n",
    "client = OpenAI(api_key = api_key)\n",
    "\n",
    "def get_completion(prompt, model=\"gpt-4\"):\n",
    "    response = client.chat.completions.create(\n",
    "        model=model,\n",
    "        messages=[\n",
    "            {\"role\": \"assistant\", \"content\": prompt}\n",
    "        ]\n",
    "    )\n",
    "    return response.choices[0].message.content\n",
    "\n",
    "get_completion(\"tell me the about snowwhite\")"
   ]
  },
  {
   "cell_type": "code",
   "execution_count": 18,
   "id": "7ea85c11-ee2c-4e89-9981-a6ad25190b5c",
   "metadata": {},
   "outputs": [
    {
     "data": {
      "text/plain": [
       "'KRN 102: Elementary Korean II\\nSpring 2024\\nDepartment of Russian and East Asian Languages and Cultures\\nSec 2: 11:30 am - 12:45 pm (MW) / Modern Language Bldg. 127\\nSec 3: 1:00 pm - 2:15 pm (MW) / Modern Language Bldg. 127\\nSec 4: 4:00 pm - 5:15 pm (MW) / Woodruff Library 875\\n(Photo by Brady Bellini on Unsplash)\\nINSTRUCTORS\\nSorin Huh, PhD\\nOffice: 306 Modern Language Bldg., (404) 727-5028\\nEmail: sorin.huh@emory.edu\\n*I respond to email within 24-48 hours, typically sooner.\\nOffice Hours: Wednesdays 2:45~3:45 pm or by appointment via Zoom\\n(Zoom Meeting ID: 300 882 158 / Passcode: Spring24)\\nEunae Jo (Sec 2)\\nOffice: 125 Modern Language Bldg., (404) 727-6526\\nEmail: eunae.jo@emory.edu\\n*I respond to email within 24-48 hours, typically sooner.\\nOffice Hours: Thursdays 11:20am-12:20 pm or by appointment via Zoom\\n(Zoom Meeting Link: https://emory.zoom.us/my/eunae.jo101)\\nHyekyung Jin (Sec 3 & 4)\\nOffice: 118 Modern Language Bldg., (404) 203-0059\\nEmail: hyekyung.jin@emory.edu\\n*I respond to email within 24-48 hours, typically sooner.\\nOffice Hours: Wednesdays 11:30~12:30 pm or by appointment via Zoom\\n(Zoom Meeting ID: 978 1323 9868)\\n1\\nIMPORTANT LINKS\\nOnline Workbook: Available for purchase at the following link with free access to the textbook.\\nhttps://uhp.junctioneducation.com/\\n(Course Enrollment Code: Sec2 - 63ef0a/\\nSec3 - 98b425/\\nSec4 - 5a6627)\\nTHE COURSE\\nKRN 102 is the Elementary Korean language course designed for those who have taken KRN 101 or had some\\nknowledge of Korean. Emphasis is placed on the fundamentals of listening, speaking, reading, and writing. In\\naddition, students will be exposed to everyday life contexts (language, culture, etc.) that are likely to be\\nencountered in contemporary Korean society.\\nClasses are divided into three parts: Lectures, Practices, and Tasks. Lectures will be provided online while\\npractice and task sessions will be conducted in-class. Lecture classes will be conducted mainly in English,\\nfocusing on the explanation and analysis of the target language. Practice and Performance sessions will be\\nconducted mostly in the target language, focusing on doing things in the language with culturally proper\\nmanners. In Practice sessions, we practice all the grammar points covered in lecture sessions. In Task sessions,\\nwe will deal with various realistic tasks using the language based on what you have prepared for that class hour.\\nSTUDENT LEARNING OUTCOMES\\nAt the end of the course, students will be able to:\\n1. understand the main ideas and supporting ideas when people talk about familiar topics.\\n2. carry on a conversation on a variety of topics that are familiar to them.\\n3. understand short and simple readings on familiar topics.\\n4. write a series of simple sentences on topics of interest.\\nTEXTBOOKS\\nTask Book (Required): Kim, et al. (2021). Learning Korean Through Tasks: High Beginner to Low\\nIntermediate. Kong & Park USA, INC.\\nTextbook (Recommended): Cho, et al. (2020). Integrated Korean: Beginning 2: KLEAR Textbooks in Korean\\nLanguage (3 ed.). Honolulu: University of Hawai’i Press.\\nrd\\nWorkbook (Required): Park, et al. (2020). Integrated Korean Workbook: Beginning 2: KLEAR Textbooks in\\nKorean Language. (online ed.). Honolulu: University of Hawai’i Press\\n*Online workbook is available for purchase at the link listed above.\\nRESOURCES\\nOnline lectures, along with the online task sessions, will be available at our Canvas course site.\\nOther online resources for self-learning are available at: http://languagecenter.emory.edu/home/self-\\nlearning/korean.html\\n2\\nGRADING\\nYour grade will be determined on the following basis:\\n35% Performance in Task & Class Participation\\nGrade Distribution\\n20% Homework (Online Lectures & Workbook)\\n10% Vocabulary Quizzes 93-100: A 90-92: A-\\n10% Midterm Exam 87-89: B+ 83-86: B 80-82: B-\\n5% Final Project 77-79: C+ 73-76: C 70-72: C-\\n20% Final Exam 65-69: D below 65: F\\n-------------------------------------------------\\n100% Total\\nPERFORMANCE IN TASK & CLASS PARTICIPATION (35%)\\nPerformance in Task: Based on students’ performance in the classroom, students will be given daily grades.\\nPlease refer to the task evaluation rubric on pages 5 and 6. Task 1 will be graded on the completion basis;\\nhowever, task 2 and 3 will be according to the rubric. Students will carry out the target task of the day in class,\\neither online or in-person, based on the guidelines.\\nAn absence will result in a daily task session grade of zero. No make-ups will be provided for the missed task\\nsession. However, one lowest task performance grade will be dropped at the end of the semester.\\nClass Participation: Students’ non-cooperative participation in class may result in a deduction of up to 5% of\\nthe total grade of the course (e.g., A- to B+ or B). Non-cooperative participation includes but is not limited to\\nreading unrelated articles or books, doing homework, eating food (drinking is okay), talking to classmates in\\ndisturbing manners, or using electronic devices (such as a laptop, cell phone, etc.) not for class-related activities.\\nDO NOT TEXT IN CLASS.\\nHOMEWORK (20%)\\nOnline Lectures (10%): Students must complete all the online lectures BEFORE midnight (by 11:59 pm) on\\nthe due date. Late assignments submitted within 24 hours from the deadline will be accepted with ONLY\\n80% of the total score earned.\\nOnline Workbook (10%): Workbook homework is an online format. You will be able to access the workbook\\nthrough the link given on page 2. Each assignment should be submitted BEFORE midnight (by 11:59 pm) on\\nthe due date.\\nWorkbook homework will be graded based on the completion and accuracy of the work submitted. One lowest\\nworkbook assignment grade will be dropped.\\n3\\nVOCABULARY QUIZZES (10%):\\nVocabulary quizes will be given in every lesson according to the schedule. No partial credit (half-points) or extra credit\\npoints will be given on vocabulary quizzes.\\nNO make-up quiz will be given regardless of any reason. At the end of the semester, two lowest grades will be dropped.\\nMIDTERM EXAM (10%):\\nThe midterm exam will be given according to the schedule. Detailed guidelines will be provided prior to each\\nexam. No make-up test will be given regardless of any reason.\\nFINAL PROJECT (5%):\\nAll students are required to present their oral projects during the last week of instruction. Details for the oral\\nproject will be provided later.\\nFINAL WRITTEN EXAM (20%):\\nThe final exam will be given in a similar format as the midterm exam. Detailed guidelines will be provided later,\\nalong with a study guide. No make-up exam will be given without prior permission from the instructor.\\nIf three or more final exams are scheduled on the same day, you may request to have your final exam\\nrescheduled. Please consult your instructor as soon as you have your final exam schedule. We will not\\nreschedule your final exam for any personal reasons.\\nEXTRA CREDIT (1%):\\nIf a student posts more than 5 Instagram posts about topics from the lessons learned throughout the semester OR\\nparticipates in at least two Korea-related events at Emory or other places and posts each event on\\nInstagram, extra credit will be given. Instagram posts must include at least 5 sentences with the picture,\\nincluding one new grammar and vocabulary learned from the lesson. Students will upload the picture related to\\ntheir texts and write more than 3 hashtags at the end of the text. One of 3 hashtags must include\\n#에모리한국어102(No spacing)\\n4\\nTask Evaluation Rubric– Collaborative Tasks\\nYour performance on collaborative tasks will be evaluated based on three criteria: collaboration (20%), task\\ncompletion (40%), and language use (40%). Please read the description in each criterion to have a clear grasp of\\nexcellent (100%), good (80%), needs improvement (60%) performances.\\nCollaboration (20%) Task completion (40%) Language use (40%)\\nThe learner almost always • Strong effort to complete The learner almost always\\n• works cooperatively on the task; all required • produces the Korean\\nalmost all parts of the task. elements of the task are language accurately\\n• carefully responds to the present • uses target linguistic\\nExcellent other speaker and engages • Content is rich; ideas features appropriately\\n(100%) the other speaker’s ideas. developed with elaboration\\nand detail; overall task\\noutcome is outstanding.\\nThe learner often • Acceptable effort to The learner sometimes\\n• works cooperatively on complete the task; almost all • makes mistakes that\\nmost parts of the task. required elements are hinder the\\n• responds to the other present understanding of the\\nspeaker and engages the • Responses appropriate and content\\nother speaker’s ideas. with some elaboration and • uses target linguistic\\nGood\\ndetail; overall task outcome features inappropriately\\n(80%)\\nis satisfactory.\\nThe learner often\\n• does not use the target\\nfeatures\\nThe learner doesn’t often • Insufficient effort shown to The learner often\\n• works cooperatively on complete the task; two or • makes mistakes that\\nmany parts of the task. more required elements are hinder the\\n• responds to the speaker missing. understanding of the\\nand engages the other • Responses appropriate yet content\\nspeaker’s ideas. undeveloped; only basic • uses target linguistic\\nNeeds\\nideas expressed without any features inappropriately\\nimprovement\\nelaboration or detail; overall\\n(60%)\\ntask outcome is inadequate. The learner almost always\\n• does not use the target\\nfeatures\\nNo\\nparticipation The learner missed the class or didn’t participate in the task at all.\\n(0%)\\n5\\nTask Evaluation Rubric – Individual Tasks\\nYour performance on individual tasks will be evaluated based on three criteria: contents (30%), task completion\\n(30%), and language use (40%). Please read the description in each criterion to have a clear grasp of excellent\\n(100%), good (80%), needs improvement (60%) performances.\\nContents (30%) Task completion (30%) Language use (40%)\\n• Content is rich; ideas • Strong effort to complete The learner almost always\\ndeveloped with elaboration the task; all required • produces the Korean\\nand detail; overall task elements of the task are language accurately\\nExcellent outcome is outstanding. present • uses target linguistic\\n(100%) features appropriately\\n• Responses appropriate • Acceptable effort to The learner sometimes\\nand with some elaboration complete the task; almost • makes mistakes that\\nand detail; overall task all required elements are hinder the understanding\\noutcome is satisfactory. present of the content\\n• uses target linguistic\\nfeatures inappropriately\\nGood\\n(80%)\\nThe learner often\\n• does not use the target\\nfeatures\\n• Responses appropriate • Insufficient effort shown The learner often\\nyet undeveloped; only to complete the task; two or • makes mistakes that\\nbasic ideas expressed more required elements are hinder the understanding\\nwithout any elaboration or missing. of the content\\ndetail; overall task • uses target linguistic\\noutcome is inadequate. features inappropriately\\nNeeds\\nimprovement\\nThe learner almost always\\n(60%)\\n• does not use the target\\nfeatures\\nNo\\nparticipation The learner missed the class or didn’t participate in the task at all.\\n(0%)\\n6\\nPOLICY\\nThe following policies will be administered without exceptions.\\n1. THE HONOR CODE\\nThis course follows the guidelines of the Emory University Honor Code. All students who apply to and are\\naccepted by Emory College of Arts and Sciences, as a condition of acceptance, agree to abide by the provisions\\nof the Honor Code as long as they remain students at Emory College. By their continued attendance at Emory\\nCollege, students reaffirm their pledge to adhere to the provisions of the Honor Code.\\nThe Emory College Language Center (ECLC) further specifies the following list of honor code violations and\\nunacceptable behaviors. Typical unacceptable behaviors in foreign language courses are as follows:\\nGroup Work/Collaborations:\\n- Copying any part of an assignment, including answers, graphs, figures, and data, from other groups\\n- Including someone’s name on a project for credit when s/he didn’t contribute to the work\\nExams/Quizzes:\\n- Attempting to look at or copy another student’s exam/quiz\\n- Attempting to provide answers to another student\\n- Accessing information on a smart device (phone, tablet, watch, etc.)\\n- Using an unauthorized electronic device during an exam/quiz\\n- Using notes or other unauthorized information during an exam/quiz\\n- Using a test bank without the professor’s permission\\n- Taking an exam for someone else or having someone take an exam for you\\n- Submitting an exam or quiz in someone else’s name\\n- Looking at books/notes when the exam/quiz is not open-book\\n- Consulting textbook/online sources while using the restroom\\nWritten Assignments:\\n- Copying someone else’s assignments (or turning in work with a majority of similarities between two student\\nassignments)\\n- Seeking answers from native speakers/advanced learners/family members\\n- Asking native speakers to complete the assignment on your behalf\\n- Working with other students when the activity/work is defined as an individual assignment\\n- Using Google Translator or other online translating mechanisms for translation assignments (unless permitted\\nby the instructor)\\n- Purchasing or consulting answer keys for assignments from other sources\\n- Copying sources in your native language and translating them into the target language without citation\\n- Copying-and-pasting in part or in whole\\nLying to Faculty/Providing False information:\\n- Lying about an absence or missed exam\\n- Lying about a late assignment\\n- Signing absent students into class\\n- Changing answers and asking for a re-grade\\n- Fabricating data/information\\nDisclaimer: This list here is, of course, not exhaustive. Programs should reference the Emory Honor Code\\nfor other violations not listed here.\\nIf you are reported for the case of Honor Code Violation, penalties will apply upon the decision of the Honor\\nCouncil. Possible penalties are a zero grade on the given assignment or quiz/test and 1-level-downgrade on your\\nfinal grade (e.g. A- → B+). Other penalties also may apply.\\n7\\n2. LANGUAGE PLACEMENT\\nYou must be enrolled in the most appropriate level of the course based on your experience in learning Korean.\\nAll students taking Korean classes for the first time at Emory are required to take the placement test. (You may\\nbe exempt from the test if your prior experience with Korean is negligible.) Should you fail to report your prior\\nexperience in learning Korean, falsely represent your language skills in class, or deliberately misrepresent your\\nlanguage ability during the placement test, you will be reported to the Honor Council. Please be aware that the\\nKorean faculty members reserve the final right to place you at the most appropriate level.\\n3. ATTENDANCE\\nBecause of the cumulative nature of any language learning, attendance is an essential part of this course. Thus,\\nattendance check will be strictly enforced. After two days of absence, including excused ones, 2% of the final\\ngrade point will be deducted per day of absence.\\n1 to 2 absences: no penalty\\n3 absences: - 2%\\n4 absences: - 4%\\n5 absences: - 6% (equivalent two grades lower e.g., B+ à B-)\\nand so on…\\nIf you miss more than 6 classes for any reason (20% of entire classes), your final grade will be an F. If you\\nneed to be absent for an extended period of time (more than 3 absences) due to illness or other health reasons, you\\nare required to schedule a meeting with an academic advisor in the Office of Undergraduate Education.\\nAll students must come to class on time and participate fully. Being late three times counts as one absence.\\n“Being late” means that a student comes to class after the instructor has started class. If you are late more than\\n15 minutes, it will be considered an absence, although you are free to stay in class.\\n4. CLASSROOM SAFETY\\nPlease read the guidelines regarding the Covid 19 carefully and follow them to ensure the safety of others. The\\nlink to Emory Forward is below:\\nhttps://www.emory.edu/forward/covid-19/what-do-I-do/index.html\\n5. OTHERS\\nIn keeping with College’s practice, students with disabilities are advised to register with the Department\\nof Accessibility Services (DAS). If desired, inform the instructor at the start of the semester about their special\\nneeds. Call 404-727-9877 or email accessibility@emory.edu. Additional information is available on the DAS\\nwebsite at https://accessibility.emory.edu/.\\n8\\nDAILY SCHEDULE (Sec2-4)\\nDATE MONDAY TUESDAY WEDNESDAY THURSDAY\\n(Online) (Online)\\nOrientation & L8C1_Lecture &\\n01 1/15-1/19\\nIntroduction\\nK101 Review\\nL8C1_Practice L8C2_Lecture L8C2_Practice L9C1_Lecture\\n02 1/22-1/26\\nVQ_L8C1 VQ_L8C2\\nL9C1_Practice L9C2_Lecture L9C2_Practice L9_Task1\\n03 1/29-2/2\\nVQ_L9C1 VQ_L9C2\\nL8_Workbook\\nL9_Task2 L9_Task3 L10C1_Lecture\\n04 2/5-2/9\\nL9_Workbook\\nL10C1_Practice L10C2_Lecture L10C2_Practice L10_Task1\\n05 2/12-2/16\\nVQ_L10C1 VQ_L10C2\\nL10_Task2 L10_Task3 L11C1_Lecture\\n06 2/19-2/23\\nL10_Workbook\\nL11C1_Practice L11C2_Lecture L11C2_Practice L11_Task1\\n07 2/26-3/1\\nVQ_L11C1 VQ_L11C2\\nL11_Task2 Midterm L12C1_Lecture\\n08 3/4-3/8\\nL11_Workbook\\nSpring Break\\n09 3/11-3/15\\nL12C1_Practice L12C2_Lecture L12C2_Practice L12_Task1\\n10 3/18-3/22\\nVQ_L12C1 VQ_L12C2\\nL12_Task2 L12_Task3 L13C1_Lecture\\n11 3/25-3/29\\nL12_Workbook\\nL13C1_Practice L13C2_Lecture L13C2_Practice L13_Task1\\n12 4/1-4/5\\nVQ_L13C1 VQ_L13C2\\nL13_Task2 L13_Task3 L14C1_Lecture\\n13 4/8-4/12\\nL13_Workbook\\nL14C1_Practice L14C2_Lecture L14C2_Practice L14_Task1\\n14 4/15-4/19\\nVQ_L14C1 VQ_L14C2\\nL14_Task2 L14_Task3\\n15 4/22-4/26\\nL14_Workbook\\nOral Presentation\\n16 4/29-5/3\\n*The schedule is subject to change./ Final exam schedule: May. 7 (6:30 pm – 9:30 pm)\\n9\\n'"
      ]
     },
     "execution_count": 18,
     "metadata": {},
     "output_type": "execute_result"
    }
   ],
   "source": [
    "import pdfplumber\n",
    "import pandas as pd\n",
    "\n",
    "client = OpenAI(api_key = api_key)\n",
    "\n",
    "# Function to extract text from PDF\n",
    "def extract_text_from_pdf(pdf_path):\n",
    "    with pdfplumber.open(pdf_path) as pdf:\n",
    "        text = \"\"\n",
    "        for page in pdf.pages:\n",
    "            text += page.extract_text() + \"\\n\"\n",
    "    return text\n",
    "\n",
    "# Function to process text with ChatGPT API\n",
    "def process_text_with_gpt(text):\n",
    "    response = client.chat.completions.create(\n",
    "        model=\"text-davinci-003\",\n",
    "        prompt=f\"Extract categories and descriptions from the following text:\\n\\n{text}\\n\\nFormat the response as a JSON array of objects with 'category' and 'description' fields.\",\n",
    "        max_tokens=1500,\n",
    "        temperature=0.5\n",
    "    )\n",
    "    return response.choices[0].message.content\n",
    "\n",
    "# Function to save data to Excel\n",
    "def save_to_excel(data, output_path):\n",
    "    df = pd.DataFrame(data)\n",
    "    df.to_excel(output_path, index=False)\n",
    "\n",
    "\n",
    "\n",
    "extract_text_from_pdf(\"/Users/xingyuzhai/Desktop/Ai.Xperiance 2024/Student-Advising-Chatbot/Ai.Xperiance 2024/Student Advising Chatbot/Data Ingestion Prework/Sample PDF/KRN102_Syllabus_S24.pdf\")\n",
    "\n",
    "\n",
    "# # Main function\n",
    "# def main(pdf_path, output_path):\n",
    "#     # Extract text from PDF\n",
    "#     text = extract_text_from_pdf(pdf_path)\n",
    "    \n",
    "#     # Process text with GPT-3\n",
    "#     processed_data = process_text_with_gpt(text)\n",
    "    \n",
    "#     # Convert processed data to JSON (assuming the response is valid JSON)\n",
    "#     import json\n",
    "#     data = json.loads(processed_data)\n",
    "    \n",
    "#     # Save to Excel\n",
    "#     save_to_excel(data, output_path)\n",
    "\n",
    "# # Example usage\n",
    "# pdf_path = '/Users/xingyuzhai/Desktop/Ai.Xperiance 2024/Student-Advising-Chatbot/Ai.Xperiance 2024/Student Advising Chatbot/Data Ingestion Prework/Sample PDF/KRN102_Syllabus_S24.pdf'       # Path to your PDF file\n",
    "# output_path = '/Users/xingyuzhai/Desktop/Ai.Xperiance 2024/Student-Advising-Chatbot/Ai.Xperiance 2024/Student Advising Chatbot/Data Ingestion Prework/Sample PDF.xlsx'    # Path to the output Excel file\n",
    "# main(pdf_path, output_path)\n",
    "\n"
   ]
  }
 ],
 "metadata": {
  "kernelspec": {
   "display_name": "Python 3 (ipykernel)",
   "language": "python",
   "name": "python3"
  },
  "language_info": {
   "codemirror_mode": {
    "name": "ipython",
    "version": 3
   },
   "file_extension": ".py",
   "mimetype": "text/x-python",
   "name": "python",
   "nbconvert_exporter": "python",
   "pygments_lexer": "ipython3",
   "version": "3.11.7"
  }
 },
 "nbformat": 4,
 "nbformat_minor": 5
}
